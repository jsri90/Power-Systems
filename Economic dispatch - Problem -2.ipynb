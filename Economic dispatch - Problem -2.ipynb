{
 "cells": [
  {
   "cell_type": "markdown",
   "id": "26d9d0a0",
   "metadata": {},
   "source": [
    "### Problem statement\n",
    "\n",
    "An area of an interconnected power system has three units operating on economic dispatch for a total demand of 850 MW. The variable operating heat rates and fuel costs are given by :\n",
    "\n",
    "$H_{1}$ = 510 + 7.2 * $P_{1}$ + (0.00142 * $P_{1}^{2}$) MBtu / hr , Fuel Cost (F) = 1.1 Rs / MBtu , 150 <= $P_{1}$ <= 600 MW\n",
    "\n",
    "$H_{2}$ = 310 + 7.85 * $P_{2}$ + (0.00194 * $P_{2}^{2}$) MBtu / hr , Fuel Cost = 1 Rs / MBtu , 100 <= $P_{2}$ <= 400 MW\n",
    "\n",
    "$H_{3}$ = 78 + 7.97 * $P_{3}$ + (0.00482 * $P_{3}^{2}$) MBtu / hr , Fuel Cost = 1 Rs / MBtu , 50 <= $P_{3}$ <= 200 MW\n",
    "\n",
    " \n",
    " \n",
    "\n",
    "\n",
    "where $P_{1}$,  $P_{2}$ and  $P_{3}$  are in MW. Determin the power output of each unit, the incremental operating costs, and the total operating cost $C_{T}$ that minimizes $C_{T}$ for a total demand of 850 MW. Transmission losses are neglected."
   ]
  },
  {
   "cell_type": "markdown",
   "id": "b754a10a",
   "metadata": {},
   "source": [
    "## Calculating economic dispatch solution neglecting line losses"
   ]
  },
  {
   "cell_type": "markdown",
   "id": "8b3537e6",
   "metadata": {},
   "source": [
    "This problem is solved using the SymPy module in Python. \n",
    "\n",
    "Reference link on creating equations and solving them: \n",
    "\n",
    "https://stackoverflow.com/questions/30791504/python-partial-derivatives-easy \n",
    "\n",
    "https://problemsolvingwithpython.com/10-Symbolic-Math/10.07-Solving-Two-Equations-for-Two-Unknowns/\n",
    "\n",
    "https://docs.sympy.org/latest/modules/solvers/solvers.html\n",
    "\n",
    "https://docs.sympy.org/latest/guides/solving/solve-equation-algebraically.html\n",
    "\n",
    "https://docs.sympy.org/latest/modules/solvers/solvers.html#sympy.solvers.solvers.solve\n",
    "\n",
    "\n",
    "\n",
    "\n"
   ]
  },
  {
   "cell_type": "code",
   "execution_count": 21,
   "id": "7a36b6ce",
   "metadata": {},
   "outputs": [],
   "source": [
    "import pandas as pd\n",
    "import numpy as np\n",
    "import matplotlib.pyplot as plt\n",
    "import math\n",
    "from sympy import symbols, diff, Eq, solve, Symbol\n"
   ]
  },
  {
   "cell_type": "markdown",
   "id": "c91b6c80",
   "metadata": {},
   "source": [
    "Operating costs of generators can be derived from the heat rate and fuel costs as $C_{i}$ = H * F"
   ]
  },
  {
   "cell_type": "markdown",
   "id": "b4464ebc",
   "metadata": {},
   "source": [
    "Thus :\n",
    "$C_{i}$ = $H_{i} * F$\n",
    "    "
   ]
  },
  {
   "cell_type": "code",
   "execution_count": null,
   "id": "0be9f920",
   "metadata": {},
   "outputs": [],
   "source": [
    "# Total demand\n",
    "PTotal = 850 # in MW"
   ]
  },
  {
   "cell_type": "code",
   "execution_count": 6,
   "id": "5ffe886d",
   "metadata": {},
   "outputs": [],
   "source": [
    "# Adding coefficients for cost functions:\n",
    "\n",
    "# heat function format = a * P + b * P^2 + c\n",
    "# for unit 1\n",
    "aP1 = 7.2\n",
    "bP1 = 0.00142\n",
    "cP1 = 510\n",
    "f1 = 1.1 # fuel cost for unit 1\n",
    "# power limits in MW\n",
    "P1_LL = 150 # lower limit\n",
    "P1_UL = 600 # upper limit\n",
    "\n",
    "# for unit 2\n",
    "aP2 = 7.85\n",
    "bP2 = 0.00194\n",
    "cP2 = 310\n",
    "f2 = 1 # fuel cost for unit 2\n",
    "# power limits in MW\n",
    "P2_LL = 100 # lower limit\n",
    "P2_UL = 400 # upper limit\n",
    "\n",
    "# for unit 3\n",
    "aP3 = 7.97\n",
    "bP3 = 0.00482\n",
    "cP3 = 78\n",
    "f3= 1 # fuel cost for unit 3\n",
    "# power limits in MW\n",
    "P3_LL = 50 # lower limit\n",
    "P3_UL = 200 # upper limit\n",
    "\n"
   ]
  },
  {
   "cell_type": "code",
   "execution_count": 4,
   "id": "fd179408",
   "metadata": {},
   "outputs": [],
   "source": [
    "# define a function to model the cost function of the generators. \n",
    "# a and b are coefficients of the cost function input P ( generator input power)\n",
    "def costFunction(pT, a, b):\n",
    "    cost = (a*pT) + (b*(pT**2))\n",
    "    return cost"
   ]
  },
  {
   "cell_type": "markdown",
   "id": "6beec628",
   "metadata": {},
   "source": [
    "## Calculating individual functions using Numpy"
   ]
  },
  {
   "cell_type": "code",
   "execution_count": 22,
   "id": "e6ae89f0",
   "metadata": {},
   "outputs": [],
   "source": [
    "# defining the transmission loss function of the power system\n",
    "\n",
    "p1, p2, p3 = symbols('p1 p2 p3', real = True) # symbols for the power outputs\n",
    "lam = Symbol('lam', real = True) # symbol for the lambda = dC / dP\n",
    "\n"
   ]
  },
  {
   "cell_type": "code",
   "execution_count": 16,
   "id": "49bbe4ff",
   "metadata": {},
   "outputs": [],
   "source": [
    "def generateCostFunction(a, b, c, f, symbol):\n",
    "    genCostFunc = ((a * symbol) + (b * symbol**2) + c) * f\n",
    "    return genCostFunc\n",
    "\n",
    "c1 = generateCostFunction(aP1, bP1, cP1, f1, p1) # in Rs / hr\n",
    "c2 = generateCostFunction(aP2, bP2, cP2, f2, p2) # in Rs / hr\n",
    "c3 = generateCostFunction(aP3, bP3, cP3, f3, p3) # in Rs / hr"
   ]
  },
  {
   "cell_type": "code",
   "execution_count": 17,
   "id": "7c1d88e8",
   "metadata": {},
   "outputs": [
    {
     "name": "stdout",
     "output_type": "stream",
     "text": [
      "0.001562*p1**2 + 7.92*p1 + 561.0\n",
      "0.00194*p2**2 + 7.85*p2 + 310\n",
      "0.00482*p3**2 + 7.97*p3 + 78\n"
     ]
    }
   ],
   "source": [
    "costs = [c1, c2, c3]\n",
    "\n",
    "for c in costs:\n",
    "    print(c)"
   ]
  },
  {
   "cell_type": "markdown",
   "id": "eff93cd6",
   "metadata": {},
   "source": [
    "We know that : \n",
    "$$\\lambda = \\frac{dC_{1}}{ dP_{1}} = \\frac{dC_{2}}{ dP_{2}} = \\frac{dC_{3}}{ dP_{3}}$$\n"
   ]
  },
  {
   "cell_type": "code",
   "execution_count": 23,
   "id": "6ecabf4c",
   "metadata": {},
   "outputs": [],
   "source": [
    "# writing a function that does differentiation of an equation\n",
    "# inputs to the function are the equation to be differentiated and the variable (sym) wrt which the equation \n",
    "# is differentiated\n",
    "def calculateDiff(eqn, sym):\n",
    "    dEq_dSym = diff(eqn, sym)\n",
    "    return dEq_dSym\n",
    "\n"
   ]
  },
  {
   "cell_type": "code",
   "execution_count": 24,
   "id": "ee2bdeb4",
   "metadata": {},
   "outputs": [
    {
     "name": "stdout",
     "output_type": "stream",
     "text": [
      "Eq(0.003124*p1 + 7.92, lam)\n",
      "Eq(0.00388*p2 + 7.85, lam)\n"
     ]
    }
   ],
   "source": [
    "dC_dP1 = Eq(calculateDiff(c1, p1), lam) # creating the eqquation for Unit 1\n",
    "dC_dP2 = Eq(calculateDiff(c2, p2), lam) # Creating the equation for unit 2\n",
    "dC_dP3 = Eq(calculateDiff(c3, p3), lam) # creating the equation for unit 3\n",
    "pTotal_eq = Eq(p1 + p2 + p3, 850) # equatin for total demand\n",
    "\n",
    "print(dC_dP1)\n",
    "print(dC_dP2)"
   ]
  },
  {
   "cell_type": "code",
   "execution_count": 25,
   "id": "4b510612",
   "metadata": {},
   "outputs": [
    {
     "data": {
      "text/plain": [
       "{p1: 393.169836945603,\n",
       " p2: 334.603755313934,\n",
       " p3: 122.226407740463,\n",
       " lam: 9.14826257061806}"
      ]
     },
     "execution_count": 25,
     "metadata": {},
     "output_type": "execute_result"
    }
   ],
   "source": [
    "solutionsDict = solve((dC_dP1, dC_dP2, dC_dP3, pTotal_eq),(p1, p2, p3, lam))\n",
    "solutionsDict"
   ]
  },
  {
   "cell_type": "code",
   "execution_count": 32,
   "id": "9310d02c",
   "metadata": {},
   "outputs": [
    {
     "name": "stdout",
     "output_type": "stream",
     "text": [
      "[True, True, True]\n",
      "P1 is within operating limits\n",
      "P2 is within operating limits\n",
      "P3 is within operating limits\n"
     ]
    }
   ],
   "source": [
    "# Check if the values are within the generator limits\n",
    "def checkLimits(value, lowerLimit, upperLimit):\n",
    "    if value >= lowerLimit and value <= upperLimit:\n",
    "        return True\n",
    "    else:\n",
    "        return False\n",
    "    \n",
    "limitDict = {solutionsDict[p1]: [P1_LL, P1_UL], \n",
    "             solutionsDict[p2]: [P2_LL, P2_UL], \n",
    "             solutionsDict[p3]: [P3_LL, P3_UL]}\n",
    "inLimit = []\n",
    "\n",
    "for key, value in limitDict.items():\n",
    "    inLimit.append(checkLimits(key, value[0], value[1]))\n",
    "\n",
    "print(inLimit)\n",
    "unitsList = ['P1', 'P2', 'P3']\n",
    "for index,unit in enumerate(unitsList):\n",
    "    if inLimit[index] == True:\n",
    "        print(f'{unit} is within operating limits')\n",
    "    else:\n",
    "        print(f'{unit} is out of limits')\n",
    "        \n",
    "    \n"
   ]
  },
  {
   "cell_type": "code",
   "execution_count": null,
   "id": "c8d80946",
   "metadata": {},
   "outputs": [],
   "source": []
  },
  {
   "cell_type": "code",
   "execution_count": null,
   "id": "43a3f37a",
   "metadata": {},
   "outputs": [],
   "source": []
  },
  {
   "cell_type": "code",
   "execution_count": null,
   "id": "cd71cb61",
   "metadata": {},
   "outputs": [],
   "source": []
  },
  {
   "cell_type": "code",
   "execution_count": null,
   "id": "987f9c0f",
   "metadata": {},
   "outputs": [],
   "source": []
  },
  {
   "cell_type": "code",
   "execution_count": null,
   "id": "ebee3d7a",
   "metadata": {},
   "outputs": [],
   "source": []
  },
  {
   "cell_type": "code",
   "execution_count": null,
   "id": "47d94385",
   "metadata": {},
   "outputs": [],
   "source": []
  }
 ],
 "metadata": {
  "kernelspec": {
   "display_name": "Python 3 (ipykernel)",
   "language": "python",
   "name": "python3"
  },
  "language_info": {
   "codemirror_mode": {
    "name": "ipython",
    "version": 3
   },
   "file_extension": ".py",
   "mimetype": "text/x-python",
   "name": "python",
   "nbconvert_exporter": "python",
   "pygments_lexer": "ipython3",
   "version": "3.11.5"
  }
 },
 "nbformat": 4,
 "nbformat_minor": 5
}
